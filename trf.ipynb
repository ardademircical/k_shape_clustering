{
 "cells": [
  {
   "cell_type": "code",
   "execution_count": 32,
   "metadata": {},
   "outputs": [],
   "source": [
    "from sklearn.linear_model import LinearRegression, Ridge, Lasso, ElasticNet\n",
    "import numpy as np \n",
    "import torch\n",
    "import pickle"
   ]
  },
  {
   "cell_type": "code",
   "execution_count": 26,
   "metadata": {},
   "outputs": [],
   "source": [
    "# The TRF can be perceived as follows.\n",
    "# HGA shape: (B, C, T), batch size, num channels, num time points.\n",
    "# X shape: (B, H, T). H represents number of features. \n",
    "\n",
    "\n",
    "# For i in range(1, number of ECoG channel):\n",
    "#   Train a regressor model. \n",
    "#   For t in range(1, T):\n",
    "#       For k in range(1, d): i.e. the delay.\n",
    "#           HGA[:, i, t] = model.predict(X[:, :, t-k])\n",
    "\n",
    "# To efficiently train the model above:\n",
    "# Each model takes in: HGA[:, i, :] of shape (B, 1, T)\n",
    "# X: (B, H, T)\n",
    "\n",
    "# Reshape:  HGA => (B*T, 1); X => (B*T, H)\n",
    "# Generate time delayed x features: X => (B*T, H* d)\n",
    "# Train the model regressing (B*T, H*d) => (B*T, 1)\n",
    "# Resulting model weights shape: (H*d, 1); which can be reshaped to (H, d), as noted in the paper."
   ]
  },
  {
   "cell_type": "code",
   "execution_count": 33,
   "metadata": {},
   "outputs": [],
   "source": [
    "def load_pkl(filename):\n",
    "    with open(filename, \"rb\") as f:\n",
    "        data = pickle.load(f)\n",
    "    f.close()\n",
    "    return data\n",
    "\n",
    "def save_pkl(data, file):\n",
    "    with open(file, 'wb') as f:\n",
    "        pickle.dump(data, f)\n",
    "    print(f\"Data succesfully saved to {file}!\")"
   ]
  },
  {
   "cell_type": "code",
   "execution_count": 27,
   "metadata": {},
   "outputs": [],
   "source": [
    "# TODO: Change the following params to actual data shape.\n",
    "B, C, T = 8, 256, 100\n",
    "H = 1024\n",
    "d = 60\n",
    "\n",
    "# For debugging.\n",
    "# B, C, T = 1, 2, 100\n",
    "# H = 4\n",
    "# d = 10\n",
    "\n",
    "# TODO: Load the data.\n",
    "HGA = torch.rand((B, C, T))\n",
    "X = torch.rand((B, H, T))\n",
    "\n",
    "for i in range(C):\n",
    "    hga = HGA[:, i, :]\n",
    "    hga = hga.reshape(B*T, 1)\n",
    "    \n",
    "    # Generate time delayed x features.\n",
    "    # TODO: note that I'm assuming 0s for x if t - k < 0.\n",
    "    # TODO: note that I'm also assuming d = 1 means 1 delay in X. (i.e. d == frequency of X)\n",
    "    x_delayed = []\n",
    "    for k in range(1, d + 1):\n",
    "        # Append 0s to the front. \n",
    "        feature = torch.concatenate((torch.zeros((B, H, k)), X[:, :, :-k]), dim = -1)\n",
    "        x_delayed.append(feature)\n",
    "    \n",
    "    # (B, H * d, T)\n",
    "    x_delayed = torch.concatenate(x_delayed, dim = 1)\n",
    "    assert x_delayed.shape == (B, H * d, T)\n",
    "    \n",
    "    # (B*T, H*d)\n",
    "    x_delayed = x_delayed.transpose(1, -1).reshape(B*T, H*d)\n",
    "    \n",
    "    # Train the model.\n",
    "    # In the paper it used ridge.\n",
    "    # A list of possible models: LinearRegression, Ridge, Lasso, ElasticNet\n",
    "    model = Ridge(alpha=0.1)\n",
    "    \n",
    "    # TODO: add k-fold & train-val-test split if necessary. \n",
    "    model.fit(x_delayed, hga)\n",
    "    \n",
    "    # Save the model.\n",
    "    save_pkl(model, f\"model_{i}.pkl\")\n",
    "    \n",
    "    # To load the model:\n",
    "    # model = load_pkl(f\"model_{i}.pkl\")\n",
    "    \n",
    "    \n",
    "    # Delete the 'break' below. \n",
    "    break"
   ]
  }
 ],
 "metadata": {
  "kernelspec": {
   "display_name": "bohan",
   "language": "python",
   "name": "python3"
  },
  "language_info": {
   "codemirror_mode": {
    "name": "ipython",
    "version": 3
   },
   "file_extension": ".py",
   "mimetype": "text/x-python",
   "name": "python",
   "nbconvert_exporter": "python",
   "pygments_lexer": "ipython3",
   "version": "3.11.5"
  }
 },
 "nbformat": 4,
 "nbformat_minor": 2
}
